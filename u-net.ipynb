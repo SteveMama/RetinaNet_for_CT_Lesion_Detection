{
 "cells": [
  {
   "cell_type": "code",
   "execution_count": 2,
   "metadata": {},
   "outputs": [],
   "source": [
    "import torch\n",
    "import torch.nn as nn\n",
    "import torch.nn.functional as F"
   ]
  },
  {
   "cell_type": "markdown",
   "metadata": {},
   "source": [
    "### Double Convolutional Layers (=>)\n",
    "For contracting path, it consists of the repeated application of <span style=\"color:red\">two 3 $\\times$ 3 convolutions(unpadded convolutions)</span> <br>\n",
    "Each followed by a <span style=\"color:red\">ReLU</span> and <span style=\"color:red\"> a 2 $\\times$ 2 max pooling operation with stride 2</span> for downsampling."
   ]
  },
  {
   "cell_type": "code",
   "execution_count": 5,
   "metadata": {},
   "outputs": [],
   "source": [
    "class TwoConv(nn.Module):\n",
    "    # 3x3 conv -> BN -> ReLU -> 3x3 conv -> BN -> ReLU\n",
    "    # Definition of the two 3x3 convolutions\n",
    "    def __init__(self, in_channels, out_channels, mid_channels=None):\n",
    "        super().__init__()\n",
    "        if not mid_channels:\n",
    "            mid_channels = out_channels\n",
    "        self.two_conv = nn.Sequential(\n",
    "            nn.Conv2d(in_channels, mid_channels, kernel_size=3, padding=1),\n",
    "            nn.BatchNorm2d(mid_channels),\n",
    "            nn.ReLU(inplace=True),\n",
    "            nn.Conv2d(mid_channels, out_channels, kernel_size=3, padding=1),\n",
    "            nn.BatchNorm2d(out_channels),\n",
    "            nn.ReLU(inplace=True)\n",
    "        )\n",
    "    # Forward Pass\n",
    "    def forward(self, x):\n",
    "        return self.two_conv(x)"
   ]
  },
  {
   "cell_type": "markdown",
   "metadata": {},
   "source": [
    "### Downsampling Layers (Contracting Path, ↓ and =>)\n",
    "For contracting path, at each downsampling step we double the number of feature channels. \n",
    "A <span style=\"color:red\">2 $\\times$ 2 max pooling operation with stride 2</span>."
   ]
  },
  {
   "cell_type": "code",
   "execution_count": 6,
   "metadata": {},
   "outputs": [],
   "source": [
    "class Downsampling(nn.Module):\n",
    "    # 2x2 max pooling operation with stride 2 then apply two convolutional layers\n",
    "    def __init__(self, in_channels, out_channels):\n",
    "        super().__init__()\n",
    "        self.down_sampling = nn.Sequential(\n",
    "            nn.MaxPool2d(2),\n",
    "            TwoConv(in_channels, out_channels)\n",
    "        )\n",
    "    def forward(self, x):\n",
    "        return self.down_sampling"
   ]
  },
  {
   "cell_type": "markdown",
   "metadata": {},
   "source": [
    "### Upsampling Layers (Expansive Path, ↑ and =>)\n",
    "For expansive path, each step consists an upsampling of the feature map followed by a <span style=\"color:red\">2 $\\times$ 2 convolution</span> that hales the number of feature channels, a concatenation with the correspondingly cropped feature map from the contracting path, and <span style=\"color:red\">two 3 $\\times$ 3 convolutions</span>, each followed by a <span style=\"color:red\">ReLU</span>."
   ]
  },
  {
   "cell_type": "code",
   "execution_count": 9,
   "metadata": {},
   "outputs": [],
   "source": [
    "class Upsampling(nn.Module):\n",
    "    # 2x2 upsampling conv -> (3x3 conv -> BN-> ReLu -> 3x3 conv -> BN -> ReLU)\n",
    "    def __init__(self, in_channels, out_channels):\n",
    "        super().__init__()\n",
    "        self.up_sampling = nn.Upsample(scale_factor=2, mode='bilinear', align_corners=True)\n",
    "        self.conv = TwoConv(in_channels, out_channels, in_channels // 2)\n",
    "    \n",
    "    # concatenation with the correspondingly cropped feature map from the contracting path\n",
    "    def forward(self, x1, x2):\n",
    "        # x1: features in expansive path(current one), x2: features in contracting path(downsampling one)\n",
    "        x1 = self.up_sampling(x1)\n",
    "        # padding\n",
    "        diffY = x2.size()[2] - x1.size()[2]\n",
    "        diffX = x2.size()[3] - x1.size()[3]\n",
    "        x1 = F.pad(x1, [diffX // 2, diffX - diffX // 2,\n",
    "                        diffY // 2, diffY - diffY // 2])\n",
    "        # combine corresponding resolution features from contracting path\n",
    "        x = torch.cat([x2, x1], dim=1)\n",
    "        # two 3x3 convolutions and each followed by a ReLU\n",
    "        x = self.conv(x)\n",
    "        return x"
   ]
  },
  {
   "cell_type": "markdown",
   "metadata": {},
   "source": [
    "### Final 1 $\\times$ 1 Convolutional Layer (->)\n",
    "At the final layer a <span style=\"color:red\">1 $\\times$ 1 convolution</span> is used to map each 64-component feature vector to the desired number of classes."
   ]
  },
  {
   "cell_type": "code",
   "execution_count": 8,
   "metadata": {},
   "outputs": [],
   "source": [
    "class FinalConv(nn.Module):\n",
    "    # 1x1 conv \n",
    "    def __init__(self, in_channels, out_channels):\n",
    "        super().__init__()\n",
    "        self.conv = nn.Conv2d(in_channels, out_channels, kernel_size=1)\n",
    "    \n",
    "    def forward(self, x):\n",
    "        x = self.conv(x)\n",
    "        return x"
   ]
  },
  {
   "cell_type": "markdown",
   "metadata": {},
   "source": [
    "### U-Net\n",
    "In order to localize, high resolution features from the contracting path are combined with the upsampled output. <br>\n",
    "Two-Conv -> Down -> Down -> Down -> Down -> Up -> Up -> Up -> Up -> Final"
   ]
  },
  {
   "cell_type": "code",
   "execution_count": 10,
   "metadata": {},
   "outputs": [],
   "source": [
    "class UNet(nn.Module):\n",
    "    def __init__(self, in_channels, n_classes):\n",
    "        self.in_channels = in_channels\n",
    "        self.n_classes = n_classes\n",
    "        \n",
    "        self.two_conv = TwoConv(in_channels, 64)\n",
    "        \n",
    "        self.Down1 = Downsampling(64, 128)\n",
    "        self.Down2 = Downsampling(128, 256)\n",
    "        self.Down3 = Downsampling(256, 512)\n",
    "        self.Down4 = Downsampling(512, 1024 // 2) # only take a half of it, and another half is from downsampling of size 512 \n",
    "        \n",
    "        # For upsampling layers, combine two part and take half size, except the last upsampling\n",
    "        self.Up1 = Upsampling(1024, 512 // 2)\n",
    "        self.Up2 = Upsampling(512, 256 // 2)\n",
    "        self.Up3 = Upsampling(256, 128 // 2)\n",
    "        self.Up4 = Upsampling(128, 64) # 128->64->64, and it won't be a half since we don't need upsampling combination with another part anymore\n",
    "        \n",
    "        self.final = FinalConv(64, n_classes)\n",
    "        \n",
    "    def forward(self, x):\n",
    "        # x1~x5:features in each layer of contracting path\n",
    "        x1 = self.two_conv(x)\n",
    "        x2 = self.Down1(x1)\n",
    "        x3 = self.Down2(x2)\n",
    "        x4 = self.Down3(x3)\n",
    "        x5 = self.Down4(x4)\n",
    "        \n",
    "        # Upsampling, combine x1~x5\n",
    "        x = self.Up1(x5, x4)\n",
    "        x = self.Up2(x, x3)\n",
    "        x = self.Up3(x, x2)\n",
    "        x = self.Up4(x, x1)\n",
    "        \n",
    "        out = self.final(x)\n",
    "        \n",
    "        return out"
   ]
  },
  {
   "cell_type": "code",
   "execution_count": null,
   "metadata": {},
   "outputs": [],
   "source": []
  }
 ],
 "metadata": {
  "kernelspec": {
   "display_name": "Python 3",
   "language": "python",
   "name": "python3"
  },
  "language_info": {
   "codemirror_mode": {
    "name": "ipython",
    "version": 3
   },
   "file_extension": ".py",
   "mimetype": "text/x-python",
   "name": "python",
   "nbconvert_exporter": "python",
   "pygments_lexer": "ipython3",
   "version": "3.7.4"
  }
 },
 "nbformat": 4,
 "nbformat_minor": 4
}
