{
 "cells": [
  {
   "cell_type": "code",
   "execution_count": 2,
   "metadata": {},
   "outputs": [],
   "source": [
    "import torch\n",
    "import torch.nn as nn\n",
    "import torch.nn.functional as F"
   ]
  },
  {
   "cell_type": "markdown",
   "metadata": {},
   "source": [
    "### Double Convolutional Layers\n",
    "For contracting path, it consists of the repeated application of <span style=\"color:red\">two 3 $\\times$ 3 convolutions(unpadded convolutions)</span> <br>\n",
    "Each followed by <span style=\"color:red\">ReLU</span> and <span style=\"color:red\"> a 2 $\\times$ 2 max pooling operation with stride 2</span> for downsampling."
   ]
  },
  {
   "cell_type": "code",
   "execution_count": 5,
   "metadata": {},
   "outputs": [],
   "source": [
    "class TwoConv(nn.Module):\n",
    "    # 3x3 conv -> BN -> ReLU -> 3x3 conv -> BN -> ReLU\n",
    "    # Definition of the two 3x3 convolutions\n",
    "    def __init__(self, in_channels, out_channels):\n",
    "        super().__init__()\n",
    "        self.two_conv = nn.Sequential(\n",
    "            nn.Conv2d(in_channels, out_channels, kernel_size=3, padding=1),\n",
    "            nn.BatchNorm2d(out_channels),\n",
    "            nn.ReLU(inplace=True),\n",
    "            nn.Conv2d(in_channels, out_channels, kernel_size=3, padding=1),\n",
    "            nn.BatchNorm2d(out_channels),\n",
    "            nn.ReLU(inplace=True)\n",
    "        )\n",
    "    # Forward Pass\n",
    "    def forward(self, x):\n",
    "        return self.two_conv(x)"
   ]
  },
  {
   "cell_type": "markdown",
   "metadata": {},
   "source": [
    "### Downsampling Layers (Contracting Path)\n",
    "For contracting path, at each downsampling step we double the number of feature channels. \n",
    "A <span style=\"color:red\">2 $\\times$ 2 max pooling operation with stride 2</span>."
   ]
  },
  {
   "cell_type": "code",
   "execution_count": 6,
   "metadata": {},
   "outputs": [],
   "source": [
    "class Downsampling(nn.Module):\n",
    "    # 2x2 max pooling operation with stride 2 then apply two convolutional layers\n",
    "    def __init__(self, in_channels, out_channels):\n",
    "        super().__init__()\n",
    "        self.down_sampling = nn.Sequential(\n",
    "            nn.MaxPool2d(2),\n",
    "            TwoConv(in_channels, out_channels)\n",
    "        )\n",
    "    def forward(self, x):\n",
    "        return self.down_sampling(x)"
   ]
  },
  {
   "cell_type": "code",
   "execution_count": null,
   "metadata": {},
   "outputs": [],
   "source": []
  }
 ],
 "metadata": {
  "kernelspec": {
   "display_name": "Python 3",
   "language": "python",
   "name": "python3"
  },
  "language_info": {
   "codemirror_mode": {
    "name": "ipython",
    "version": 3
   },
   "file_extension": ".py",
   "mimetype": "text/x-python",
   "name": "python",
   "nbconvert_exporter": "python",
   "pygments_lexer": "ipython3",
   "version": "3.7.4"
  }
 },
 "nbformat": 4,
 "nbformat_minor": 4
}
